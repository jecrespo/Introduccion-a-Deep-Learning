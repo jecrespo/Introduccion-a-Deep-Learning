{
 "cells": [
  {
   "cell_type": "code",
   "execution_count": 1,
   "metadata": {},
   "outputs": [],
   "source": [
    "import tensorflow as tf"
   ]
  },
  {
   "cell_type": "code",
   "execution_count": 2,
   "metadata": {},
   "outputs": [],
   "source": [
    "tf.random.set_seed(0)"
   ]
  },
  {
   "cell_type": "code",
   "execution_count": 3,
   "metadata": {},
   "outputs": [],
   "source": [
    "mnist = tf.keras.datasets.mnist"
   ]
  },
  {
   "cell_type": "code",
   "execution_count": 4,
   "metadata": {},
   "outputs": [],
   "source": [
    "(x_train, y_train),(x_test, y_test) = mnist.load_data()\n",
    "x_train, x_test = x_train / 255.0, x_test / 255.0"
   ]
  },
  {
   "cell_type": "code",
   "execution_count": 5,
   "metadata": {},
   "outputs": [
    {
     "data": {
      "text/plain": [
       "4"
      ]
     },
     "execution_count": 5,
     "metadata": {},
     "output_type": "execute_result"
    }
   ],
   "source": [
    "y_train[2]"
   ]
  },
  {
   "cell_type": "code",
   "execution_count": 6,
   "metadata": {},
   "outputs": [],
   "source": [
    "callback_checkpoint = tf.keras.callbacks.ModelCheckpoint(\n",
    "        'pesos.hdf', monitor='val_loss')\n",
    "early_stopping = tf.keras.callbacks.EarlyStopping(monitor='val_loss', patience=5)\n",
    "callbacks = [callback_checkpoint, early_stopping]"
   ]
  },
  {
   "cell_type": "code",
   "execution_count": 7,
   "metadata": {},
   "outputs": [],
   "source": [
    "model = tf.keras.models.Sequential([\n",
    "  tf.keras.layers.Flatten(input_shape=(28, 28)),\n",
    "  tf.keras.layers.Dense(512, activation=tf.nn.relu),\n",
    "  tf.keras.layers.Dropout(0.2),\n",
    "  tf.keras.layers.Dense(10, activation=tf.nn.softmax)\n",
    "])\n",
    "model.compile(optimizer='adam',\n",
    "              loss='sparse_categorical_crossentropy',\n",
    "              metrics=['accuracy'])"
   ]
  },
  {
   "cell_type": "code",
   "execution_count": 8,
   "metadata": {},
   "outputs": [
    {
     "name": "stdout",
     "output_type": "stream",
     "text": [
      "Train on 60000 samples, validate on 10000 samples\n",
      "Epoch 1/15\n",
      "59648/60000 [============================>.] - ETA: 0s - loss: 0.2224 - accuracy: 0.9336WARNING:tensorflow:From /Users/ecrespo/anaconda3/lib/python3.7/site-packages/tensorflow_core/python/ops/resource_variable_ops.py:1781: calling BaseResourceVariable.__init__ (from tensorflow.python.ops.resource_variable_ops) with constraint is deprecated and will be removed in a future version.\n",
      "Instructions for updating:\n",
      "If using Keras pass *_constraint arguments to layers.\n",
      "INFO:tensorflow:Assets written to: pesos.hdf/assets\n",
      "60000/60000 [==============================] - 25s 415us/sample - loss: 0.2222 - accuracy: 0.9337 - val_loss: 3.2286 - val_accuracy: 0.9695\n",
      "Epoch 2/15\n",
      "59840/60000 [============================>.] - ETA: 0s - loss: 0.0982 - accuracy: 0.9699INFO:tensorflow:Assets written to: pesos.hdf/assets\n",
      "60000/60000 [==============================] - 23s 387us/sample - loss: 0.0981 - accuracy: 0.9699 - val_loss: 2.5362 - val_accuracy: 0.9737\n",
      "Epoch 3/15\n",
      "59872/60000 [============================>.] - ETA: 0s - loss: 0.0699 - accuracy: 0.9780INFO:tensorflow:Assets written to: pesos.hdf/assets\n",
      "60000/60000 [==============================] - 30s 497us/sample - loss: 0.0698 - accuracy: 0.9780 - val_loss: 2.2396 - val_accuracy: 0.9773\n",
      "Epoch 4/15\n",
      "59360/60000 [============================>.] - ETA: 0s - loss: 0.0539 - accuracy: 0.9825INFO:tensorflow:Assets written to: pesos.hdf/assets\n",
      "60000/60000 [==============================] - 25s 419us/sample - loss: 0.0541 - accuracy: 0.9824 - val_loss: 2.1438 - val_accuracy: 0.9793\n",
      "Epoch 5/15\n",
      "59744/60000 [============================>.] - ETA: 0s - loss: 0.0429 - accuracy: 0.9863INFO:tensorflow:Assets written to: pesos.hdf/assets\n",
      "60000/60000 [==============================] - 29s 483us/sample - loss: 0.0429 - accuracy: 0.9863 - val_loss: 2.3166 - val_accuracy: 0.9774\n",
      "Epoch 6/15\n",
      "59872/60000 [============================>.] - ETA: 0s - loss: 0.0371 - accuracy: 0.9880INFO:tensorflow:Assets written to: pesos.hdf/assets\n",
      "60000/60000 [==============================] - 28s 470us/sample - loss: 0.0371 - accuracy: 0.9880 - val_loss: 1.8684 - val_accuracy: 0.9826\n",
      "Epoch 7/15\n",
      "59744/60000 [============================>.] - ETA: 0s - loss: 0.0304 - accuracy: 0.9893INFO:tensorflow:Assets written to: pesos.hdf/assets\n",
      "60000/60000 [==============================] - 29s 478us/sample - loss: 0.0304 - accuracy: 0.9893 - val_loss: 2.2564 - val_accuracy: 0.9793\n",
      "Epoch 8/15\n",
      "59744/60000 [============================>.] - ETA: 0s - loss: 0.0277 - accuracy: 0.9904INFO:tensorflow:Assets written to: pesos.hdf/assets\n",
      "60000/60000 [==============================] - 26s 426us/sample - loss: 0.0277 - accuracy: 0.9904 - val_loss: 2.2591 - val_accuracy: 0.9808\n",
      "Epoch 9/15\n",
      "59840/60000 [============================>.] - ETA: 0s - loss: 0.0251 - accuracy: 0.9914INFO:tensorflow:Assets written to: pesos.hdf/assets\n",
      "60000/60000 [==============================] - 29s 485us/sample - loss: 0.0251 - accuracy: 0.9915 - val_loss: 2.3337 - val_accuracy: 0.9811\n",
      "Epoch 10/15\n",
      "59680/60000 [============================>.] - ETA: 0s - loss: 0.0232 - accuracy: 0.9924INFO:tensorflow:Assets written to: pesos.hdf/assets\n",
      "60000/60000 [==============================] - 28s 469us/sample - loss: 0.0233 - accuracy: 0.9924 - val_loss: 2.2566 - val_accuracy: 0.9831\n",
      "Epoch 11/15\n",
      "59616/60000 [============================>.] - ETA: 0s - loss: 0.0189 - accuracy: 0.9934INFO:tensorflow:Assets written to: pesos.hdf/assets\n",
      "60000/60000 [==============================] - 25s 419us/sample - loss: 0.0190 - accuracy: 0.9933 - val_loss: 2.1945 - val_accuracy: 0.9840\n"
     ]
    },
    {
     "data": {
      "text/plain": [
       "<tensorflow.python.keras.callbacks.History at 0x10d38a310>"
      ]
     },
     "execution_count": 8,
     "metadata": {},
     "output_type": "execute_result"
    }
   ],
   "source": [
    "model.fit(x_train, y_train, epochs=15,\n",
    "         validation_data=(x_test, y_test),\n",
    "         validation_steps=len(x_test),\n",
    "         callbacks=callbacks)"
   ]
  },
  {
   "cell_type": "code",
   "execution_count": 10,
   "metadata": {},
   "outputs": [],
   "source": [
    "y_predict = model.predict(x_test)"
   ]
  },
  {
   "cell_type": "code",
   "execution_count": 11,
   "metadata": {},
   "outputs": [
    {
     "data": {
      "text/plain": [
       "array([3.6922628e-11, 7.5762042e-11, 7.6885331e-10, 7.5629734e-09,\n",
       "       3.2281050e-15, 8.9062567e-14, 7.2615100e-21, 9.9999738e-01,\n",
       "       3.0270270e-12, 2.6068369e-06], dtype=float32)"
      ]
     },
     "execution_count": 11,
     "metadata": {},
     "output_type": "execute_result"
    }
   ],
   "source": [
    "y_predict[0]"
   ]
  },
  {
   "cell_type": "code",
   "execution_count": 12,
   "metadata": {},
   "outputs": [],
   "source": [
    "y_predict = model.predict_classes(x_test)"
   ]
  },
  {
   "cell_type": "code",
   "execution_count": 13,
   "metadata": {},
   "outputs": [
    {
     "data": {
      "text/plain": [
       "7"
      ]
     },
     "execution_count": 13,
     "metadata": {},
     "output_type": "execute_result"
    }
   ],
   "source": [
    "y_predict[0]"
   ]
  },
  {
   "cell_type": "code",
   "execution_count": 14,
   "metadata": {},
   "outputs": [],
   "source": [
    "import sklearn"
   ]
  },
  {
   "cell_type": "code",
   "execution_count": 15,
   "metadata": {},
   "outputs": [],
   "source": [
    "from sklearn.metrics import accuracy_score"
   ]
  },
  {
   "cell_type": "code",
   "execution_count": 16,
   "metadata": {},
   "outputs": [
    {
     "data": {
      "text/plain": [
       "0.984"
      ]
     },
     "execution_count": 16,
     "metadata": {},
     "output_type": "execute_result"
    }
   ],
   "source": [
    "accuracy_score(y_test, y_predict)"
   ]
  },
  {
   "cell_type": "code",
   "execution_count": 17,
   "metadata": {},
   "outputs": [],
   "source": [
    "model.save_weights('pesos_modelo.hdf')"
   ]
  },
  {
   "cell_type": "code",
   "execution_count": 18,
   "metadata": {},
   "outputs": [
    {
     "data": {
      "text/plain": [
       "array([[3.6922628e-11, 7.5762188e-11, 7.6885331e-10, 7.5629591e-09,\n",
       "        3.2281050e-15, 8.9062567e-14, 7.2615100e-21, 9.9999738e-01,\n",
       "        3.0270387e-12, 2.6068344e-06]], dtype=float32)"
      ]
     },
     "execution_count": 18,
     "metadata": {},
     "output_type": "execute_result"
    }
   ],
   "source": [
    "model.predict(x_test[:1])"
   ]
  },
  {
   "cell_type": "code",
   "execution_count": 19,
   "metadata": {},
   "outputs": [],
   "source": [
    "%matplotlib widget\n",
    "import matplotlib.pyplot as plt"
   ]
  },
  {
   "cell_type": "code",
   "execution_count": 20,
   "metadata": {},
   "outputs": [
    {
     "data": {
      "application/vnd.jupyter.widget-view+json": {
       "model_id": "a5458ddde355447b8608d5ecdcc3b51d",
       "version_major": 2,
       "version_minor": 0
      },
      "text/plain": [
       "Canvas(toolbar=Toolbar(toolitems=[('Home', 'Reset original view', 'home', 'home'), ('Back', 'Back to previous …"
      ]
     },
     "metadata": {},
     "output_type": "display_data"
    },
    {
     "data": {
      "text/plain": [
       "<matplotlib.image.AxesImage at 0x1a59076890>"
      ]
     },
     "execution_count": 20,
     "metadata": {},
     "output_type": "execute_result"
    }
   ],
   "source": [
    "plt.imshow(x_test[0])"
   ]
  },
  {
   "cell_type": "code",
   "execution_count": 21,
   "metadata": {},
   "outputs": [],
   "source": [
    "l = [1, 2, 3]"
   ]
  },
  {
   "cell_type": "code",
   "execution_count": 22,
   "metadata": {},
   "outputs": [
    {
     "data": {
      "text/plain": [
       "1"
      ]
     },
     "execution_count": 22,
     "metadata": {},
     "output_type": "execute_result"
    }
   ],
   "source": [
    "l[0]"
   ]
  },
  {
   "cell_type": "code",
   "execution_count": 23,
   "metadata": {},
   "outputs": [
    {
     "data": {
      "text/plain": [
       "[1]"
      ]
     },
     "execution_count": 23,
     "metadata": {},
     "output_type": "execute_result"
    }
   ],
   "source": [
    "l[:1]\n"
   ]
  },
  {
   "cell_type": "code",
   "execution_count": null,
   "metadata": {},
   "outputs": [],
   "source": []
  }
 ],
 "metadata": {
  "kernelspec": {
   "display_name": "Python 3",
   "language": "python",
   "name": "python3"
  },
  "language_info": {
   "codemirror_mode": {
    "name": "ipython",
    "version": 3
   },
   "file_extension": ".py",
   "mimetype": "text/x-python",
   "name": "python",
   "nbconvert_exporter": "python",
   "pygments_lexer": "ipython3",
   "version": "3.7.5"
  }
 },
 "nbformat": 4,
 "nbformat_minor": 4
}
