{
 "cells": [
  {
   "cell_type": "code",
   "execution_count": 2,
   "metadata": {},
   "outputs": [
    {
     "name": "stdout",
     "output_type": "stream",
     "text": [
      "corpus length: 2117498\n"
     ]
    }
   ],
   "source": [
    "with open('pg2000.txt','r',encoding='utf-8') as f:\n",
    "    text = f.read().lower()\n",
    "print('corpus length:', len(text))\n",
    "    "
   ]
  },
  {
   "cell_type": "code",
   "execution_count": 7,
   "metadata": {},
   "outputs": [
    {
     "data": {
      "text/plain": [
       "'\\ufeffthe project gutenberg ebook of don quijote, by miguel de cervantes saavedra\\n\\nthis ebook is for the use of anyone anywhere at no cost and with\\nalmost no restrictions whatsoever.  you may copy it, give it away or\\nre-use it under the terms of the project gutenberg license included\\nwith this ebook or online at www.gutenberg.net\\n\\n\\ntitle: don quijote\\n\\nauthor: miguel de cervantes saavedra\\n\\nposting date: april 27, 2010 [ebook #2000]\\nrelease date: december, 1999\\n\\nlanguage: spanish\\n\\n\\n*** start of this project gutenberg ebook don quijote ***\\n\\n\\n\\n\\nproduced by an anonymous project gutenberg volunteer. text\\nfile corrections and new html file by joaquin cuenca abela.\\n\\n\\n\\n\\n\\n\\n\\n\\n\\n\\n\\nel ingenioso hidalgo don quijote de la mancha\\n\\n\\ntasa\\n\\nyo, juan gallo de andrada, escribano de cámara del rey nuestro señor, de\\nlos que residen en su consejo, certifico y doy fe que, habiendo visto por\\nlos señores dél un libro intitulado el ingenioso hidalgo de la mancha,\\ncompuesto por miguel de cervantes saavedra, tasaron cada pliego del dicho\\nlibro a tres maravedís y medio; el cual tiene ochenta y tres pliegos, que\\nal dicho precio monta el dicho libro docientos y noventa maravedís y medio,\\nen que se ha de vender en papel; y dieron licencia para que a este precio\\nse pueda vender, y mandaron que esta tasa se ponga al principio del dicho\\nlibro, y no se pueda vender sin ella. y, para que dello conste, di la\\npresente en valladolid, a veinte días del mes de deciembre de mil y\\nseiscientos y cuatro años.\\n\\njuan gallo de andrada.\\n\\ntestimonio de las erratas\\n\\neste libro no tiene cosa digna que no corresponda a su original; en\\ntestimonio de lo haber correcto, di esta fee. en el colegio de la madre de\\ndios de los teólogos de la universidad de alcalá, en primero de diciembre\\nde 1604 años.\\n\\nel licenciado francisco murcia de la llana.\\n\\nel rey\\n\\npor cuanto por parte de vos, miguel de cervantes, nos fue fecha relación\\nque habíades compuesto un libro intitulado el ingenioso hidalgo de la\\nmancha, el cual os había costado mucho trabajo y era muy útil y provechoso,\\nnos pedistes y suplicastes os mandásemos dar licencia y facultad para le\\npoder imprimir, y previlegio por el tiempo que fuésemos servidos, o como la\\nnuestra merced fuese; lo cual visto por los del nuestro consejo, por cuanto\\nen el dicho libro se hicieron las diligencias que la premática últimamente\\npor nos fecha sobre la impresión de los libros dispone, fue acordado que\\ndebíamos mandar dar esta nuestra cédula para vos, en la dicha razón; y nos\\ntuvímoslo por bien. por la cual, por os hacer bien y merced, os damos\\nlicencia y facultad para que vos, o la persona que vuestro poder hubiere, y\\nno otra alguna, podáis imprimir el dicho libro, intitulado el ingenioso\\nhidalgo de la mancha, que desuso se hace mención, en todos estos nuestros\\nreinos de castilla, por tiempo y espacio de diez años, que corran y se\\ncuenten desde el dicho día de la data desta nuestra cédula; so pena que la\\npersona o personas que, sin tener vuestro poder, lo imprimiere o vendiere,\\no '"
      ]
     },
     "execution_count": 7,
     "metadata": {},
     "output_type": "execute_result"
    }
   ],
   "source": [
    "text[:3000]"
   ]
  },
  {
   "cell_type": "code",
   "execution_count": null,
   "metadata": {},
   "outputs": [],
   "source": []
  }
 ],
 "metadata": {
  "kernelspec": {
   "display_name": "Python 3",
   "language": "python",
   "name": "python3"
  },
  "language_info": {
   "codemirror_mode": {
    "name": "ipython",
    "version": 3
   },
   "file_extension": ".py",
   "mimetype": "text/x-python",
   "name": "python",
   "nbconvert_exporter": "python",
   "pygments_lexer": "ipython3",
   "version": "3.7.5"
  }
 },
 "nbformat": 4,
 "nbformat_minor": 4
}
