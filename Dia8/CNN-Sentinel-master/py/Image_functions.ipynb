{
 "cells": [
  {
   "cell_type": "markdown",
   "metadata": {},
   "source": [
    "# Notebook for image_functions.py"
   ]
  },
  {
   "cell_type": "markdown",
   "metadata": {},
   "source": [
    "## Preprocessing"
   ]
  },
  {
   "cell_type": "markdown",
   "metadata": {},
   "source": [
    "### RGB data"
   ]
  },
  {
   "cell_type": "code",
   "execution_count": null,
   "metadata": {},
   "outputs": [],
   "source": [
    "def preprocessing_image_rgb(x):\n",
    "    # define mean and std values\n",
    "    mean = [87.845, 96.965, 103.947]\n",
    "    std = [23.657, 16.474, 13.793]\n",
    "    # loop over image channels\n",
    "    for idx, mean_value in enumerate(mean):\n",
    "        x[..., idx] -= mean_value\n",
    "        x[..., idx] /= std[idx]\n",
    "    return x"
   ]
  },
  {
   "cell_type": "markdown",
   "metadata": {},
   "source": [
    "### MS data"
   ]
  },
  {
   "cell_type": "code",
   "execution_count": null,
   "metadata": {},
   "outputs": [],
   "source": [
    "def preprocessing_image_ms(x):\n",
    "    # define mean and std values\n",
    "    mean = [1353.036, 1116.468, 1041.475, 945.344, 1198.498, 2004.878,\n",
    "            2376.699, 2303.738, 732.957, 12.092, 1818.820, 1116.271, 2602.579]\n",
    "    std = [65.479, 154.008, 187.997, 278.508, 228.122, 356.598, 456.035,\n",
    "           531.570, 98.947, 1.188, 378.993, 303.851, 503.181]\n",
    "    # loop over image channels\n",
    "    for idx, mean_value in enumerate(mean):\n",
    "        x[..., idx] -= mean_value\n",
    "        x[..., idx] /= std[idx]\n",
    "    return x"
   ]
  },
  {
   "cell_type": "markdown",
   "metadata": {},
   "source": [
    "## Image Generator for MS data"
   ]
  },
  {
   "cell_type": "markdown",
   "metadata": {},
   "source": [
    "### Get label from file name"
   ]
  },
  {
   "cell_type": "code",
   "execution_count": null,
   "metadata": {},
   "outputs": [],
   "source": [
    "def categorical_label_from_full_file_name(files, class_indices):\n",
    "    from keras.utils import to_categorical\n",
    "    import os\n",
    "    # file basename without extension\n",
    "    base_name = [os.path.splitext(os.path.basename(i))[0] for i in files]\n",
    "    # class label from filename\n",
    "    base_name = [i.split(\"_\")[0] for i in base_name]\n",
    "    # label to indices\n",
    "    image_class = [class_indices[i] for i in base_name]\n",
    "    # class indices to one-hot-label\n",
    "    return to_categorical(image_class, num_classes=len(class_indices))"
   ]
  },
  {
   "cell_type": "markdown",
   "metadata": {},
   "source": [
    "### Generate images"
   ]
  },
  {
   "cell_type": "code",
   "execution_count": null,
   "metadata": {},
   "outputs": [],
   "source": [
    "def simple_image_generator(files, class_indices, batch_size=32,\n",
    "                           rotation_range=0, horizontal_flip=False,\n",
    "                           vertical_flip=False):\n",
    "    from skimage.io import imread\n",
    "    from skimage.transform import rotate\n",
    "    import numpy as np\n",
    "    from random import sample, choice\n",
    "\n",
    "    while True:\n",
    "        # select batch_size number of samples without replacement\n",
    "        batch_files = sample(files, batch_size)\n",
    "        # get one_hot_label\n",
    "        batch_Y = categorical_label_from_full_file_name(batch_files,\n",
    "                                                        class_indices)\n",
    "        # array for images\n",
    "        batch_X = []\n",
    "        # loop over images of the current batch\n",
    "        for idx, input_path in enumerate(batch_files):\n",
    "            image = np.array(imread(input_path), dtype=float)\n",
    "            image = preprocessing_image_ms(image)\n",
    "            # process image\n",
    "            if horizontal_flip:\n",
    "                # randomly flip image up/down\n",
    "                if choice([True, False]):\n",
    "                    image = np.flipud(image)\n",
    "            if vertical_flip:\n",
    "                # randomly flip image left/right\n",
    "                if choice([True, False]):\n",
    "                    image = np.fliplr(image)\n",
    "            # rotate image by random angle between\n",
    "            # -rotation_range <= angle < rotation_range\n",
    "            if rotation_range is not 0:\n",
    "                angle = np.random.uniform(low=-abs(rotation_range),\n",
    "                                          high=abs(rotation_range))\n",
    "                image = rotate(image, angle, mode='reflect',\n",
    "                               order=1, preserve_range=True)\n",
    "            # put all together\n",
    "            batch_X += [image]\n",
    "        # convert lists to np.array\n",
    "        X = np.array(batch_X)\n",
    "        Y = np.array(batch_Y)\n",
    "\n",
    "        yield(X, Y)"
   ]
  }
 ],
 "metadata": {
  "kernelspec": {
   "display_name": "Python 3",
   "language": "python",
   "name": "python3"
  },
  "language_info": {
   "codemirror_mode": {
    "name": "ipython",
    "version": 3
   },
   "file_extension": ".py",
   "mimetype": "text/x-python",
   "name": "python",
   "nbconvert_exporter": "python",
   "pygments_lexer": "ipython3",
   "version": "3.6.6"
  }
 },
 "nbformat": 4,
 "nbformat_minor": 2
}
